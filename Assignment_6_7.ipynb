{
  "cells": [
    {
      "cell_type": "markdown",
      "metadata": {},
      "source": [
        "SECRET WORD: DEV"
      ]
    },
    {
      "cell_type": "markdown",
      "metadata": {
        "id": "aupJMyqMzLaK"
      },
      "source": [
        "1. Consider again Task 1 in the Midsem. Now, let us consider a straight line movement from point A=(0.40,0.06,0.1) to point B=(0.40,0.01,0.1). Either by making some reasonable/intuitive assumptions or using one of the approaches in the text book come up with a desired trajectory to go from point A to point B. From this approach, generate the desired end-point trajectory (position, velocity, andacceleration). Plot trajectory for end-effector position, velocity and acceleration with respect to time. Use this desired trajectory for all other tasks."
      ]
    },
    {
      "cell_type": "code",
      "execution_count": null,
      "metadata": {
        "colab": {
          "base_uri": "https://localhost:8080/",
          "height": 265
        },
        "id": "QfK44qLyEBdY",
        "outputId": "51836c17-9253-445d-d352-0f5f1e802c67"
      },
      "outputs": [
        {
          "data": {
            "image/png": "[encoded data removed]",
            "text/plain": [
              "<Figure size 432x288 with 1 Axes>"
            ]
          },
          "metadata": {
            "needs_background": "light"
          },
          "output_type": "display_data"
        }
      ],
      "source": [
        "import math\n",
        "import numpy as np\n",
        "import matplotlib.pyplot as plt\n",
        "\n",
        "def cartesian(t_0, t_f):\n",
        "  \n",
        "  t = np.linspace(t_0,t_f,num=1000)\n",
        "\n",
        "  A = np.array([[1, t_0, t_0**2, t_0**3, t_0**4, t_0**5],\n",
        "                [0, 1, 2*t_0, 3*t_0**2, 4*t_0**3, 5*t_0**4],\n",
        "                [0, 0, 2, 6*t_0, 12*t_0**2, 20*t_0**3],\n",
        "                [1, t_f, t_f**2, t_f**3, t_f**4, t_f**5],\n",
        "                [0, 1, 2*t_f, 3*t_f**2, 4*t_f**3, 5*t_f**4],\n",
        "                [0, 0, 2, 6*t_f, 12*t_f**2, 20*t_f**3]])\n",
        "  \n",
        "  r = np.array([[0.4, 0.06, 0.1],\n",
        "                [0,0,0],\n",
        "                [0,0,0],\n",
        "                [0.4, 0.01, 0.1],\n",
        "                [0,0,0],\n",
        "                [0,0,0]\n",
        "                ]) \n",
        "  \n",
        "  inv_A = np.linalg.inv(A)\n",
        "  C = np.matmul(inv_A,r)\n",
        "  r = [0.4, 0.06, 0.1]; rdot = [0,0,0]; rddot = [0,0,0]\n",
        "\n",
        "  for i in range(1,len(t)):\n",
        "    A_t = np.array([1, t[i], t[i]**2, t[i]**3, t[i]**4, t[i]**5]).reshape(1,-1)\n",
        "    r_t = np.matmul(A_t,C).reshape(1,-1)\n",
        "    r_t = np.array(r_t)\n",
        "    r = np.vstack((r,r_t))\n",
        "    A_dot_t = np.array([0, t[i], 2*t[i], 3*t[i]**2, 4*t[i]**3, 5*t[i]**4])\n",
        "    r_dot_t = np.matmul(A_dot_t,C)\n",
        "    rdot.append(r_dot_t)\n",
        "    A_ddot_t = [0,0,2,6*t[i],12*t[i]**2,20*t[i]**3]\n",
        "    r_ddot_t = np.matmul(A_ddot_t,C)\n",
        "    rddot.append(r_ddot_t)\n",
        "\n",
        "  plt.plot(t,r[:,0])\n",
        "  plt.plot(t,r[:,1])\n",
        "  plt.plot(t,r[:,2])\n",
        "  plt.plot(r[:,0],r[:,1])\n",
        "  plt.legend([\"x(t)\",\"y(t)\",\"z(t)\",\"trajectory\"], loc = \"lower right\")\n",
        "  plt.show()\n",
        "\n",
        "t_0 = 0\n",
        "t_f = 10\n",
        "cartesian(t_0,t_f) \n",
        "\n"
      ]
    },
    {
      "cell_type": "markdown",
      "metadata": {
        "id": "4kupm25MEC07"
      },
      "source": [
        "2. Pick any one manipulator (your choice) out of Stanford, PUMA, and SCARA. Using the dimensions worked out in Task 1.a of Mid-sem exam (tweak those numbers if need be), then work out the desired trajectories in joint space. Plot these joint trajectories with respect to time. Use this same manipulator for all other tasks."
      ]
    },
    {
      "cell_type": "code",
      "execution_count": null,
      "metadata": {
        "colab": {
          "base_uri": "https://localhost:8080/",
          "height": 315
        },
        "id": "55OQEPWws73b",
        "outputId": "509f07fb-77ff-4000-96d7-cece9de8b0b3"
      },
      "outputs": [
        {
          "name": "stdout",
          "output_type": "stream",
          "text": [
            "[[0.14888994760949723, -0.8851696682987095, 1.0600826270863724], [0.02499479361892016, -0.9046179420290408, 1.0918999346093923]]\n",
            "[[0.39999999999999997, 0.05999999999999999, 0.10000000000000003], [0.4000000000000001, 0.010000000000000002, 0.10000000000000003]]\n",
            "(6, 3)\n"
          ]
        },
        {
          "data": {
            "image/png": "[encoded data removed]",
            "text/plain": [
              "<Figure size 432x288 with 1 Axes>"
            ]
          },
          "metadata": {
            "needs_background": "light"
          },
          "output_type": "display_data"
        }
      ],
      "source": [
        "import math\n",
        "import numpy as np\n",
        "import matplotlib.pyplot as plt\n",
        "from matplotlib.pyplot import matshow\n",
        "\n",
        "class sol_1():\n",
        "\n",
        "    def __init__(self) -> None:\n",
        "        self.L = 0.25 # same link lengths for all the links\n",
        "        self.J = []\n",
        "        pass\n",
        "\n",
        "    def PUMA(self,corners):\n",
        "        L = self.L\n",
        "        J = [] \n",
        "\n",
        "        # Inverse Kinematics\n",
        "        d_1 = 0 # joint offset is assumed to be zero\n",
        "        for i in corners:\n",
        "            theta_1 = math.atan2(i[1],i[0])\n",
        "            D = (i[0]**2 + i[1]**2 + (i[2] - L)**2 - 2*L**2)/(2*L**2)\n",
        "            theta_3 = math.atan2(math.sqrt(1 - D**2),D)\n",
        "            r = math.sqrt(i[0]**2 + i[1]**2)\n",
        "            s = i[2] - L\n",
        "            theta_2 = math.atan2(s,r) - math.atan2(L*math.sin(theta_3),L*(1 + math.cos(theta_3)))\n",
        "            j = [theta_1, theta_2, theta_3] \n",
        "            J.append(j)\n",
        "        print(J)\n",
        "\n",
        "        #Forward Kinematics\n",
        "        P = [] # list of end-effector positions for A,B,C,D\n",
        "        for i in J:\n",
        "            z = L*math.sin(i[2]+i[1]) + L*math.sin(i[1]) + L\n",
        "            y = (L*math.cos(i[2]+i[1]) + L*math.cos(i[1]))*math.sin(i[0])\n",
        "            x = (L*math.cos(i[2]+i[1]) + L*math.cos(i[1]))*math.cos(i[0])\n",
        "            p = [x,y,z]\n",
        "            P.append(p)\n",
        "        print(P)\n",
        "        self.J = J\n",
        "        pass\n",
        "\n",
        "    def joint(self,t_0,t_f): # t = [t_0,t_f]\n",
        "        A = np.array([[1, t_0, t_0**2, t_0**3, t_0**4, t_0**5],\n",
        "            [0, 1, 2*t_0, 3*t_0**2, 4*t_0**3, 5*t_0**4],\n",
        "            [0, 0, 2, 6*t_0, 12*t_0**2, 20*t_0**3],\n",
        "            [1, t_f, t_f**2, t_f**3, t_f**4, t_f**5],\n",
        "            [0, 1, 2*t_f, 3*t_f**2, 4*t_f**3, 5*t_f**4],\n",
        "            [0, 0, 2, 6*t_f, 12*t_f**2, 20*t_f**3]])\n",
        "        \n",
        "        q = np.array([[self.J[0][0],self.J[0][1],self.J[0][2]],\n",
        "            [0,0,0],\n",
        "            [0,0,0],\n",
        "            [self.J[1][0],self.J[1][1],self.J[1][2]],\n",
        "            [0,0,0],\n",
        "            [0,0,0]\n",
        "            ])\n",
        "\n",
        "        inv_A = np.linalg.inv(A)\n",
        "        C = np.matmul(inv_A,q)\n",
        "        print(np.shape(C))\n",
        "        t = np.linspace(t_0,t_f,num=1000)\n",
        "        q = self.J[0]; qdot = [0,0,0]; qddot = [0,0,0]\n",
        "\n",
        "        for i in range(1,len(t)):\n",
        "          A_t = np.array([1, t[i], t[i]**2, t[i]**3, t[i]**4, t[i]**5]).reshape(1,-1)\n",
        "          q_t = np.matmul(A_t,C).reshape(1,-1)\n",
        "          q_t = np.array(q_t)\n",
        "          q = np.vstack((q,q_t))\n",
        "          A_dot_t = np.array([0, t[i], 2*t[i], 3*t[i]**2, 4*t[i]**3, 5*t[i]**4])\n",
        "          q_dot_t = np.matmul(A_dot_t,C)\n",
        "          qdot.append(q_dot_t)\n",
        "          A_ddot_t = [0,0,2,6*t[i],12*t[i]**2,20*t[i]**3]\n",
        "          q_ddot_t = np.matmul(A_ddot_t,C)\n",
        "          qddot.append(q_ddot_t)\n",
        "\n",
        "        plt.plot(t,q[:,0])\n",
        "        plt.plot(t,q[:,1])\n",
        "        plt.plot(t,q[:,2])\n",
        "        plt.legend([\"theta 1\",\"theta 2\",\"theta 3\"], loc = \"lower right\")\n",
        "        plt.show()\n",
        "\n",
        "A = [0.40,0.06,0.1]\n",
        "B = [0.40,0.01,0.1]\n",
        "corners = [A,B]\n",
        "t_0 = 0\n",
        "t_f = 1\n",
        "solution = sol_1()\n",
        "solution.PUMA(corners)\n",
        "solution.joint(t_0,t_f)"
      ]
    }
  ],
  "metadata": {
    "colab": {
      "collapsed_sections": [],
      "name": "Assignment_6_7.ipynb",
      "provenance": []
    },
    "kernelspec": {
      "display_name": "Python 3",
      "name": "python3"
    },
    "language_info": {
      "name": "python"
    }
  },
  "nbformat": 4,
  "nbformat_minor": 0
}
